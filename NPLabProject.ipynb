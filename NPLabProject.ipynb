{
 "cells": [
  {
   "cell_type": "code",
   "execution_count": 12,
   "id": "c226a19a",
   "metadata": {},
   "outputs": [],
   "source": [
    "#BUILDING MATRIX                                                 \n",
    "\n",
    "Graph=[[0,80,139,31.1,999,999,999,999,999,999,999,97.5,999],\n",
    "[80,0,999,999,999,999,999,999,999,999,999,999,75.4],\n",
    "[139,999,0,999,999,999,999,999,999,999,39,999,999],\n",
    "[31.1,999,999,0,51.7,999,999,999,999,51.7,999,999],\n",
    "[999,999,999,51.7,0,28.8,999,999,999,999,999,999,999],\n",
    "[999,999,999,999,28.8,0,47.7,999,999,999,999,999,999],\n",
    "[999,999,999,999,999,47.7,0,38,999,999,999,999,999],\n",
    "[999,999,999,999,999,999,38,0,109,999,26,999,100],\n",
    "[999,999,999,999,999,999,999,103,0,22,999,999,999],\n",
    "[99,999,999,51.7,999,999,999,999,22,0,999,999,999],\n",
    "[999,999,39,999,999,999,999,26,999,999,0,999,999],\n",
    "[97.5,999,999,999,999,999,999,999,999,999,0,70.4],\n",
    "[999,75.4,999,999,999,999,999,100,999,999,999,70.4,0]]"
   ]
  },
  {
   "cell_type": "code",
   "execution_count": 13,
   "id": "26b430f4",
   "metadata": {},
   "outputs": [
    {
     "name": "stdout",
     "output_type": "stream",
     "text": [
      "Vertex \tDistance from Source\n",
      "1 \t 0\n",
      "2 \t 80\n",
      "3 \t 139\n",
      "4 \t 31.1\n",
      "5 \t 82.8\n",
      "6 \t 111.6\n",
      "7 \t 159.3\n",
      "8 \t 197.3\n",
      "9 \t 104.8\n",
      "10 \t 82.8\n",
      "11 \t 178\n",
      "12 \t 97.5\n"
     ]
    }
   ],
   "source": [
    "#Dijsktra's Algorithm                                          \n",
    "\n",
    "class GRAPH():\n",
    "\tdef __init__(self, vertices):\n",
    "\t\tself.V = vertices\n",
    "\t\tself.graph = [[0 for column in range(vertices)]\n",
    "\t\t\t\t\tfor row in range(vertices)]\n",
    "\tdef printSolution(self, dist):\n",
    "\t\tprint(\"Vertex \\tDistance from Source\")\n",
    "\t\tfor node in range(self.V):\n",
    "\t\t\tprint(node+1, \"\\t\", round(dist[node],2))\n",
    "\tdef minDistance(self, dist, sptSet):\n",
    "\t\tmin = 100000\n",
    "\t\tfor u in range(self.V):\n",
    "\t\t\tif dist[u] < min and sptSet[u] == False:\n",
    "\t\t\t\tmin = dist[u]\n",
    "\t\t\t\tmin_index = u\n",
    "\t\treturn min_index\n",
    "\tdef dijkstra(self, src):\n",
    "\t\tdist = [100000] * self.V\n",
    "\t\tdist[src] = 0\n",
    "\t\tsptSet = [False] * self.V\n",
    "\t\tfor cout in range(self.V):\n",
    "\t\t\tx = self.minDistance(dist, sptSet)\n",
    "\t\t\tsptSet[x] = True\n",
    "\t\t\tfor y in range(self.V):\n",
    "\t\t\t\tif self.graph[x][y] > 0 and sptSet[y] == False and \\\n",
    "\t\t\t\tdist[y] > dist[x] + self.graph[x][y]:\n",
    "\t\t\t\t\t\tdist[y] = dist[x] + self.graph[x][y]\n",
    "\t\tself.printSolution(dist)\n",
    "g = GRAPH(12)\n",
    "g.graph = Graph\n",
    "g.dijkstra(0);\n",
    "\n",
    "#SOURCE~> Belgaum (1)\n",
    "#DESTINATION~> Karwar (8)\n"
   ]
  },
  {
   "cell_type": "code",
   "execution_count": 14,
   "id": "4c492a43",
   "metadata": {
    "scrolled": true
   },
   "outputs": [
    {
     "name": "stdout",
     "output_type": "stream",
     "text": [
      "1 ~>8 is => 197.3\n"
     ]
    }
   ],
   "source": [
    "#Floyd Warshal's Algorithm                     \n",
    "INF=999\n",
    "V = len(Graph)-1\n",
    "def floydWarshall(graph,m,n):\n",
    "\n",
    "    dist=graph\n",
    "    for k in range(V):\n",
    "        for i in range(V):\n",
    "            for j in range(V):\n",
    "                dist[i][j]=round(min(dist[i][j],dist[i][k]+dist[k][j]),2)\n",
    "    source=m;dest=n\n",
    "    print(\"{} ~>{} is => {}\".format(m+1,n+1,dist[n][m]))\n",
    "floydWarshall(Graph,0,7)\n",
    "\n",
    "#SOURCE~> Belgaum (1)\n",
    "#DESTINATION~> Karwar (8)\n"
   ]
  },
  {
   "cell_type": "code",
   "execution_count": 15,
   "id": "65d3b345",
   "metadata": {},
   "outputs": [
    {
     "name": "stdout",
     "output_type": "stream",
     "text": [
      "Vertex Distance from Source\n",
      "0\t\t0\n",
      "1\t\t80\n",
      "2\t\t136.5\n",
      "3\t\t31.1\n",
      "4\t\t82.8\n",
      "5\t\t111.6\n",
      "6\t\t159.29999999999998\n",
      "7\t\t123.5\n",
      "8\t\t104.8\n",
      "9\t\t82.8\n",
      "10\t\t97.5\n",
      "11\t\t97.5\n",
      "12\t\t999\n"
     ]
    }
   ],
   "source": [
    "# Bellman Ford Algorithm                         \n",
    "\n",
    "\n",
    "class BGraph:\n",
    "    def __init__(self, vertices):\n",
    "        self.V = vertices   \n",
    "        self.graph = []     \n",
    "    # Add edges\n",
    "    def add_edge(self, s, d, w):\n",
    "        self.graph.append([s, d, w])\n",
    "\n",
    "    def print_solution(self, dist):\n",
    "        print(\"Vertex Distance from Source\")\n",
    "        for i in range(self.V):\n",
    "            print(\"{0}\\t\\t{1}\".format(i, dist[i]))\n",
    "    def bellman_ford(self, src):\n",
    "        dist = [999] * self.V\n",
    "        dist[src] = 0\n",
    "        for _ in range(self.V - 1):\n",
    "            for s, d, w in self.graph:\n",
    "                if dist[s] != 999 and dist[s] + w < dist[d]:\n",
    "                    dist[d] = dist[s] + w\n",
    "        for s, d, w in self.graph:\n",
    "            if dist[s] != 999 and dist[s] + w < dist[d]:\n",
    "                print(\"Graph contains negative weight cycle\")\n",
    "                return\n",
    "        self.print_solution(dist)\n",
    "G=BGraph(13)\n",
    "for i in range(13):\n",
    "    for j in range(i+1,12):\n",
    "        Q=Graph[i][j]\n",
    "        G.add_edge(i,j,Q)\n",
    "G.bellman_ford(0)\n",
    "\n",
    "#SOURCE~> Belgaum (0)\n",
    "#DESTINATION~> Karwar (7)"
   ]
  }
 ],
 "metadata": {
  "kernelspec": {
   "display_name": "Python 3 (ipykernel)",
   "language": "python",
   "name": "python3"
  },
  "language_info": {
   "codemirror_mode": {
    "name": "ipython",
    "version": 3
   },
   "file_extension": ".py",
   "mimetype": "text/x-python",
   "name": "python",
   "nbconvert_exporter": "python",
   "pygments_lexer": "ipython3",
   "version": "3.10.0"
  }
 },
 "nbformat": 4,
 "nbformat_minor": 5
}
